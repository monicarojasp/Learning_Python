{
  "cells": [
    {
      "cell_type": "markdown",
      "metadata": {
        "id": "2br0H6Jbux7a"
      },
      "source": [
        "# **Milestone Project 1:**\n",
        "\n",
        "Below is a set of steps for a Tic Tac Toe game!\n",
        "\n",
        "2 players should be able to play this game (both sitting at the same computer)"
      ]
    },
    {
      "cell_type": "markdown",
      "metadata": {
        "id": "fc22ctwXux7d"
      },
      "source": [
        "**Lets start!**\n",
        "\n",
        "Function that print out a board."
      ]
    },
    {
      "cell_type": "code",
      "execution_count": 1,
      "metadata": {
        "collapsed": true,
        "id": "XO6u6VV-ux7d"
      },
      "outputs": [],
      "source": [
        "def display_board(board):\n",
        "\n",
        "    #I decided to print the numbers so the players know which number corresponds to which position.\n",
        "\n",
        "    print(board[0] + ' | ' + board[1] + ' | ' + board[2])\n",
        "    print('-- --- --')\n",
        "    print(board[3] + ' | ' + board[4] + ' | ' + board[5])\n",
        "    print('-- --- --')\n",
        "    print(board[6] + ' | ' + board[7] + ' | ' + board[8])"
      ]
    },
    {
      "cell_type": "markdown",
      "metadata": {
        "id": "9T21eIHtux7g"
      },
      "source": [
        "Function that uses the random module to randomly decide which player goes first."
      ]
    },
    {
      "cell_type": "code",
      "execution_count": 5,
      "metadata": {
        "collapsed": true,
        "id": "eSjazWYhux7g"
      },
      "outputs": [],
      "source": [
        "import random\n",
        "\n",
        "def choose_first():\n",
        "\n",
        "    my_list = ['Player 1', 'Player 2']\n",
        "    player = random.choice(my_list)\n",
        "\n",
        "    return(player)"
      ]
    },
    {
      "cell_type": "markdown",
      "metadata": {
        "id": "hiMHegpNux7e"
      },
      "source": [
        "Function can take in a player input and allows the player to choose their marker as 'X' or 'O'."
      ]
    },
    {
      "cell_type": "code",
      "execution_count": 23,
      "metadata": {
        "collapsed": true,
        "id": "FOFaXS5-ux7f"
      },
      "outputs": [],
      "source": [
        "def player_input():\n",
        "\n",
        "    marker = ''\n",
        "\n",
        "    while marker not in ['X','O']:\n",
        "\n",
        "        marker = input('Choose your mark: X or O ? ').upper()\n",
        "\n",
        "        if marker == 'X':\n",
        "            return('X','O')\n",
        "        else:\n",
        "            return ('O','X')"
      ]
    },
    {
      "cell_type": "markdown",
      "metadata": {
        "id": "CB87RRocux7h"
      },
      "source": [
        "Function that asks for a player's next position (as a number 1-9) and then uses the function from step 6 to check if it's a free position. If it is, then return the position for later use."
      ]
    },
    {
      "cell_type": "code",
      "execution_count": 8,
      "metadata": {
        "id": "5THU-3vEux7h"
      },
      "outputs": [],
      "source": [
        "def player_choice(board):\n",
        "    position = 10\n",
        "\n",
        "    while position not in [0,1,2,3,4,5,6,7,8] or not space_check(board, position):\n",
        "        position = (int(input('Choose your next position: (1-9) ')))\n",
        "        position = (position - 1)\n",
        "\n",
        "        return position\n"
      ]
    },
    {
      "cell_type": "markdown",
      "metadata": {
        "id": "vZQb8Eswux7h"
      },
      "source": [
        "Function that returns a boolean indicating whether a space on the board is freely available."
      ]
    },
    {
      "cell_type": "code",
      "execution_count": 48,
      "metadata": {
        "collapsed": true,
        "id": "A_nmGH8bux7h"
      },
      "outputs": [],
      "source": [
        "def space_check(board, position):\n",
        "\n",
        "    return (board[position] != 'X') and (board[position] != 'O')"
      ]
    },
    {
      "cell_type": "markdown",
      "metadata": {
        "id": "rekk2-KLux7f"
      },
      "source": [
        "Function that takes in the board list object, a marker ('X' or 'O'), and a desired position (number 1-9) and assigns it to the board."
      ]
    },
    {
      "cell_type": "code",
      "execution_count": 42,
      "metadata": {
        "collapsed": true,
        "id": "Jqsj_1W8ux7f"
      },
      "outputs": [],
      "source": [
        "def place_marker(board, marker, position):\n",
        "\n",
        "    board[position] = marker"
      ]
    },
    {
      "cell_type": "markdown",
      "metadata": {
        "id": "4Hn3ftgDux7g"
      },
      "source": [
        "Function that takes in a board and a mark (X or O) and then checks to see if that mark has won."
      ]
    },
    {
      "cell_type": "code",
      "execution_count": 19,
      "metadata": {
        "collapsed": true,
        "id": "RC262dtUux7g"
      },
      "outputs": [],
      "source": [
        "def win_check(board, mark):\n",
        "    return(\n",
        "        #horizontal check\n",
        "        (board[0] == mark and board[1] == mark and board[2] == mark) or\n",
        "        (board[3] == mark and board[4] == mark and board[5] == mark) or\n",
        "        (board[6] == mark and board[7] == mark and board[8] == mark) or\n",
        "         #vertical check\n",
        "        (board[0] == mark and board[3] == mark and board[6] == mark) or\n",
        "        (board[1] == mark and board[4] == mark and board[7] == mark) or\n",
        "        (board[2] == mark and board[5] == mark and board[8] == mark) or\n",
        "\n",
        "        #Diagonal check\n",
        "        (board[0] == mark and board[4] == mark and board[8] == mark) or\n",
        "        (board[2] == mark and board[4] == mark and board[6] == mark)\n",
        "        )\n"
      ]
    },
    {
      "cell_type": "markdown",
      "metadata": {
        "id": "Y6vfokIdux7h"
      },
      "source": [
        "Function that checks if the board is full and returns a boolean value. True if full, False otherwise."
      ]
    },
    {
      "cell_type": "code",
      "execution_count": 7,
      "metadata": {
        "collapsed": true,
        "id": "hsMnZYxfux7h"
      },
      "outputs": [],
      "source": [
        "def full_board_check(board):\n",
        "\n",
        "    for i in range(0,9):\n",
        "\n",
        "        if space_check(board, i):\n",
        "            return False\n",
        "        #Board in full if return TRUE\n",
        "    return True"
      ]
    },
    {
      "cell_type": "markdown",
      "metadata": {
        "id": "9KuSh1qxux7i"
      },
      "source": [
        "Function that asks the player if they want to play again and returns a boolean True if they do want to play again."
      ]
    },
    {
      "cell_type": "code",
      "execution_count": 18,
      "metadata": {
        "collapsed": true,
        "id": "3wqUp5Dpux7i"
      },
      "outputs": [],
      "source": [
        "def replay():\n",
        "\n",
        "    choice = \"_\"\n",
        "\n",
        "    while choice not in ['Y', 'N']:\n",
        "\n",
        "        choice = input(\"Would you like to keep playing? Y (Yes) or N (No): \").upper()\n",
        "\n",
        "    if choice == \"Y\":\n",
        "        return True\n",
        "    else:\n",
        "        return False"
      ]
    },
    {
      "cell_type": "markdown",
      "metadata": {
        "collapsed": true,
        "id": "psEMTo2sux7i"
      },
      "source": [
        "##**Now we run the game!**"
      ]
    },
    {
      "cell_type": "code",
      "execution_count": 51,
      "metadata": {
        "collapsed": true,
        "colab": {
          "base_uri": "https://localhost:8080/"
        },
        "id": "cXjSpwobux7i",
        "outputId": "3ff0ee1c-e5ac-4602-dc98-65bc3dfee44e"
      },
      "outputs": [
        {
          "name": "stdout",
          "output_type": "stream",
          "text": [
            "Let's play Tic Tac Toe!\n",
            "Player 2 will go first.\n",
            "Are you ready to play tic-tac-toe? Y (Yes) or N (No): y\n",
            "Choose your mark: X or O ? x\n",
            "1 | 2 | 3\n",
            "-- --- --\n",
            "4 | 5 | 6\n",
            "-- --- --\n",
            "7 | 8 | 9\n",
            "Player 2\n",
            "Choose your next position: (1-9) 1\n",
            "O | 2 | 3\n",
            "-- --- --\n",
            "4 | 5 | 6\n",
            "-- --- --\n",
            "7 | 8 | 9\n",
            "Player 1\n",
            "Choose your next position: (1-9) 1\n",
            "Sorry, position not available. Try again! \n",
            "Choose your next position: (1-9) 2\n",
            "O | X | 3\n",
            "-- --- --\n",
            "4 | 5 | 6\n",
            "-- --- --\n",
            "7 | 8 | 9\n",
            "Player 2\n",
            "Choose your next position: (1-9) 2\n",
            "Sorry, position not available. Try again! \n",
            "Choose your next position: (1-9) 3\n",
            "O | X | O\n",
            "-- --- --\n",
            "4 | 5 | 6\n",
            "-- --- --\n",
            "7 | 8 | 9\n",
            "Player 1\n",
            "Choose your next position: (1-9) 4\n",
            "O | X | O\n",
            "-- --- --\n",
            "X | 5 | 6\n",
            "-- --- --\n",
            "7 | 8 | 9\n",
            "Player 2\n",
            "Choose your next position: (1-9) 5\n",
            "O | X | O\n",
            "-- --- --\n",
            "X | O | 6\n",
            "-- --- --\n",
            "7 | 8 | 9\n",
            "Player 1\n",
            "Choose your next position: (1-9) 6\n",
            "O | X | O\n",
            "-- --- --\n",
            "X | O | X\n",
            "-- --- --\n",
            "7 | 8 | 9\n",
            "Player 2\n",
            "Choose your next position: (1-9) 7\n",
            "O | X | O\n",
            "-- --- --\n",
            "X | O | X\n",
            "-- --- --\n",
            "O | 8 | 9\n",
            "The winner is: Player 2!!!\n",
            "Would you like to keep playing? Y (Yes) or N (No): n\n"
          ]
        }
      ],
      "source": [
        "print(\"Let's play Tic Tac Toe!\")\n",
        "\n",
        "while True:\n",
        "\n",
        "    #Game set-up\n",
        "    ## Arrange everything:\n",
        "\n",
        "    ###(1)print board\n",
        "    board = ['1','2','3',\n",
        "            '4','5','6',\n",
        "            '7','8','9']\n",
        "\n",
        "    ###(2)Who choose first\n",
        "    turn = choose_first()\n",
        "    print(turn + ' will go first.')\n",
        "\n",
        "    play_game = input('Are you ready to play tic-tac-toe? Y (Yes) or N (No): ').upper()\n",
        "\n",
        "    if play_game == 'Y':\n",
        "        game_on = True\n",
        "    else:\n",
        "        game_on = False\n",
        "\n",
        "    ###(3)Choose marker\n",
        "    player1, player2 = player_input()\n",
        "\n",
        "    ##Now lets play!\n",
        "    while game_on:\n",
        "        ##Player 1\n",
        "        if turn == 'Player 1':\n",
        "            #show the board\n",
        "            display_board(board)\n",
        "            #Choose a position\n",
        "            print('Player 1')\n",
        "            position = player_choice(board)\n",
        "\n",
        "            #Place the marker in the position if available.\n",
        "            if space_check(board, position) == True:\n",
        "              place_marker(board, player1, position)\n",
        "            else:\n",
        "              print('Sorry, position not available. Try again! ')\n",
        "              position = player_choice(board)\n",
        "              place_marker(board, player1, position)\n",
        "\n",
        "            #check if there is a win or tie\n",
        "            if win_check(board, player1):\n",
        "                display_board(board)\n",
        "                print('The winner is: Player 1!!!')\n",
        "                game_on = False\n",
        "            else:\n",
        "                if full_board_check(board):\n",
        "                    display_board(board)\n",
        "                    print(\"It is a tie!\")\n",
        "                    game_on = False\n",
        "                else:\n",
        "                    turn = 'Player 2'\n",
        "            #If no win or tie, then next player's turn\n",
        "        else:\n",
        "            ##Player 2\n",
        "            if turn == 'Player 2':\n",
        "                #show the board\n",
        "                display_board(board)\n",
        "                #Choose a possition\n",
        "                print('Player 2')\n",
        "                position = player_choice(board)\n",
        "                #Place the marker in the position if available.\n",
        "                if space_check(board, position) == True:\n",
        "                  place_marker(board, player2, position)\n",
        "                else:\n",
        "                  print('Sorry, position not available. Try again! ')\n",
        "                  position = player_choice(board)\n",
        "                  place_marker(board, player2, position)\n",
        "\n",
        "                #check if there is a win or tie\n",
        "                if win_check(board, player2):\n",
        "                    display_board(board)\n",
        "                    print('The winner is: Player 2!!!')\n",
        "                    game_on = False\n",
        "                else:\n",
        "                    if full_board_check(board):\n",
        "                        display_board(board)\n",
        "                        print(\"It is a tie!\")\n",
        "                        game_on = False\n",
        "                    else:\n",
        "                        turn = 'Player 1'\n",
        "            #If no win or tie, then is the next player's turn\n",
        "\n",
        "    #If game ends, ask if they want to play again:\n",
        "    if not replay():\n",
        "        break"
      ]
    },
    {
      "cell_type": "markdown",
      "metadata": {
        "collapsed": true,
        "id": "0431wqPmux7j"
      },
      "source": [
        "## Done!"
      ]
    }
  ],
  "metadata": {
    "kernelspec": {
      "display_name": "Python 3",
      "language": "python",
      "name": "python3"
    },
    "language_info": {
      "codemirror_mode": {
        "name": "ipython",
        "version": 3
      },
      "file_extension": ".py",
      "mimetype": "text/x-python",
      "name": "python",
      "nbconvert_exporter": "python",
      "pygments_lexer": "ipython3",
      "version": "3.12.1"
    },
    "colab": {
      "provenance": []
    }
  },
  "nbformat": 4,
  "nbformat_minor": 0
}